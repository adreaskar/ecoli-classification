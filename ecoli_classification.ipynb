{
  "nbformat": 4,
  "nbformat_minor": 0,
  "metadata": {
    "colab": {
      "name": " ecoli-classification.ipynb",
      "provenance": [],
      "collapsed_sections": []
    },
    "kernelspec": {
      "name": "python3",
      "display_name": "Python 3"
    },
    "language_info": {
      "name": "python"
    }
  },
  "cells": [
    {
      "cell_type": "markdown",
      "source": [
        "# **Εισαγωγές**\n"
      ],
      "metadata": {
        "id": "fS1Yo3DfueZe"
      }
    },
    {
      "cell_type": "markdown",
      "source": [
        "### **Εισαγωγή βιβλιοθηκών**"
      ],
      "metadata": {
        "id": "BliSvoWqwNFW"
      }
    },
    {
      "cell_type": "markdown",
      "source": [
        "Εισάγουμε τις βιβλιοθήκες και τα βασικά εργαλεία για την μετέπειτα χρήση τους στην διαδικαςσία της ανάλυσης."
      ],
      "metadata": {
        "id": "ndjEvqpk8f3S"
      }
    },
    {
      "cell_type": "code",
      "execution_count": 1,
      "metadata": {
        "id": "yR7vyNg7jGzv"
      },
      "outputs": [],
      "source": [
        "import pandas as pd\n",
        "import matplotlib.pyplot as plt\n",
        "import seaborn as sns\n",
        "import numpy as np\n",
        "\n",
        "from sklearn.model_selection import train_test_split\n",
        "from sklearn.preprocessing import LabelEncoder\n",
        "from sklearn import metrics\n",
        "from sklearn.metrics import confusion_matrix"
      ]
    },
    {
      "cell_type": "markdown",
      "source": [
        "### **Εισαγωγή δεδομένων**"
      ],
      "metadata": {
        "id": "AL6k5VDmv3rf"
      }
    },
    {
      "cell_type": "markdown",
      "source": [
        "Στην συνέχεια εισάγουμε τα δεδομένα χρησιμοποιώντας ένα Dataframe της pandas, μέσω της εντολής **.read_csv()**. Η επιτυχής εκτέλεση της εντολής αυτής **προυποθέτει την μεταφόρτωση του αρχείου `ecoli.data` στα έγγραφα του notebook.** Εάν θέλουμε να εισάγουμε τα δεδομένα απο κάποιον άλλο κατάλογο, αρκεί να ορίσουμε την διαδρομή στην εντολή. \n",
        "\n",
        "Π.χ. `df = pd.read_csv(\"path/to/file\", delim_whitespace=True)` \n",
        "\n",
        "Παρόλλο που το αρχείο δεν είναι της μορφής **.csv**, η εντολή `.read_csv()` μπορεί, μέσω ειδικής παραμέτρου, να καταλάβει οτι οι μεταβλητές χωρίζονται με τον χαρακτήρα του κενού στην προκείμενη περίπτωση. Χρησιμοποιώντας της εντόλη `.head()` στο dataframe μπορούμε να δούμε τα πρώτα αποτελέσματα του συνόλου δεδομένων, τόσα όσα έχουμε δηλώσει στην παράμετρο της συνάρτησης."
      ],
      "metadata": {
        "id": "h2DRPW4E8oeg"
      }
    },
    {
      "cell_type": "code",
      "source": [
        "df = pd.read_csv(\"ecoli.data\", delim_whitespace=True)\n",
        "df.head(8)"
      ],
      "metadata": {
        "colab": {
          "base_uri": "https://localhost:8080/",
          "height": 300
        },
        "id": "Fw13AubERa_m",
        "outputId": "fae02b10-3d7b-48c9-f4fc-1e175616e86b"
      },
      "execution_count": 2,
      "outputs": [
        {
          "output_type": "execute_result",
          "data": {
            "text/plain": [
              "    AAT_ECOLI  0.49  0.29  0.48  0.50  0.56  0.24  0.35  cp\n",
              "0  ACEA_ECOLI  0.07  0.40  0.48   0.5  0.54  0.35  0.44  cp\n",
              "1  ACEK_ECOLI  0.56  0.40  0.48   0.5  0.49  0.37  0.46  cp\n",
              "2  ACKA_ECOLI  0.59  0.49  0.48   0.5  0.52  0.45  0.36  cp\n",
              "3   ADI_ECOLI  0.23  0.32  0.48   0.5  0.55  0.25  0.35  cp\n",
              "4  ALKH_ECOLI  0.67  0.39  0.48   0.5  0.36  0.38  0.46  cp\n",
              "5  AMPD_ECOLI  0.29  0.28  0.48   0.5  0.44  0.23  0.34  cp\n",
              "6  AMY2_ECOLI  0.21  0.34  0.48   0.5  0.51  0.28  0.39  cp\n",
              "7   APT_ECOLI  0.20  0.44  0.48   0.5  0.46  0.51  0.57  cp"
            ],
            "text/html": [
              "\n",
              "  <div id=\"df-02582594-d5d2-437c-9055-4ead9841d267\">\n",
              "    <div class=\"colab-df-container\">\n",
              "      <div>\n",
              "<style scoped>\n",
              "    .dataframe tbody tr th:only-of-type {\n",
              "        vertical-align: middle;\n",
              "    }\n",
              "\n",
              "    .dataframe tbody tr th {\n",
              "        vertical-align: top;\n",
              "    }\n",
              "\n",
              "    .dataframe thead th {\n",
              "        text-align: right;\n",
              "    }\n",
              "</style>\n",
              "<table border=\"1\" class=\"dataframe\">\n",
              "  <thead>\n",
              "    <tr style=\"text-align: right;\">\n",
              "      <th></th>\n",
              "      <th>AAT_ECOLI</th>\n",
              "      <th>0.49</th>\n",
              "      <th>0.29</th>\n",
              "      <th>0.48</th>\n",
              "      <th>0.50</th>\n",
              "      <th>0.56</th>\n",
              "      <th>0.24</th>\n",
              "      <th>0.35</th>\n",
              "      <th>cp</th>\n",
              "    </tr>\n",
              "  </thead>\n",
              "  <tbody>\n",
              "    <tr>\n",
              "      <th>0</th>\n",
              "      <td>ACEA_ECOLI</td>\n",
              "      <td>0.07</td>\n",
              "      <td>0.40</td>\n",
              "      <td>0.48</td>\n",
              "      <td>0.5</td>\n",
              "      <td>0.54</td>\n",
              "      <td>0.35</td>\n",
              "      <td>0.44</td>\n",
              "      <td>cp</td>\n",
              "    </tr>\n",
              "    <tr>\n",
              "      <th>1</th>\n",
              "      <td>ACEK_ECOLI</td>\n",
              "      <td>0.56</td>\n",
              "      <td>0.40</td>\n",
              "      <td>0.48</td>\n",
              "      <td>0.5</td>\n",
              "      <td>0.49</td>\n",
              "      <td>0.37</td>\n",
              "      <td>0.46</td>\n",
              "      <td>cp</td>\n",
              "    </tr>\n",
              "    <tr>\n",
              "      <th>2</th>\n",
              "      <td>ACKA_ECOLI</td>\n",
              "      <td>0.59</td>\n",
              "      <td>0.49</td>\n",
              "      <td>0.48</td>\n",
              "      <td>0.5</td>\n",
              "      <td>0.52</td>\n",
              "      <td>0.45</td>\n",
              "      <td>0.36</td>\n",
              "      <td>cp</td>\n",
              "    </tr>\n",
              "    <tr>\n",
              "      <th>3</th>\n",
              "      <td>ADI_ECOLI</td>\n",
              "      <td>0.23</td>\n",
              "      <td>0.32</td>\n",
              "      <td>0.48</td>\n",
              "      <td>0.5</td>\n",
              "      <td>0.55</td>\n",
              "      <td>0.25</td>\n",
              "      <td>0.35</td>\n",
              "      <td>cp</td>\n",
              "    </tr>\n",
              "    <tr>\n",
              "      <th>4</th>\n",
              "      <td>ALKH_ECOLI</td>\n",
              "      <td>0.67</td>\n",
              "      <td>0.39</td>\n",
              "      <td>0.48</td>\n",
              "      <td>0.5</td>\n",
              "      <td>0.36</td>\n",
              "      <td>0.38</td>\n",
              "      <td>0.46</td>\n",
              "      <td>cp</td>\n",
              "    </tr>\n",
              "    <tr>\n",
              "      <th>5</th>\n",
              "      <td>AMPD_ECOLI</td>\n",
              "      <td>0.29</td>\n",
              "      <td>0.28</td>\n",
              "      <td>0.48</td>\n",
              "      <td>0.5</td>\n",
              "      <td>0.44</td>\n",
              "      <td>0.23</td>\n",
              "      <td>0.34</td>\n",
              "      <td>cp</td>\n",
              "    </tr>\n",
              "    <tr>\n",
              "      <th>6</th>\n",
              "      <td>AMY2_ECOLI</td>\n",
              "      <td>0.21</td>\n",
              "      <td>0.34</td>\n",
              "      <td>0.48</td>\n",
              "      <td>0.5</td>\n",
              "      <td>0.51</td>\n",
              "      <td>0.28</td>\n",
              "      <td>0.39</td>\n",
              "      <td>cp</td>\n",
              "    </tr>\n",
              "    <tr>\n",
              "      <th>7</th>\n",
              "      <td>APT_ECOLI</td>\n",
              "      <td>0.20</td>\n",
              "      <td>0.44</td>\n",
              "      <td>0.48</td>\n",
              "      <td>0.5</td>\n",
              "      <td>0.46</td>\n",
              "      <td>0.51</td>\n",
              "      <td>0.57</td>\n",
              "      <td>cp</td>\n",
              "    </tr>\n",
              "  </tbody>\n",
              "</table>\n",
              "</div>\n",
              "      <button class=\"colab-df-convert\" onclick=\"convertToInteractive('df-02582594-d5d2-437c-9055-4ead9841d267')\"\n",
              "              title=\"Convert this dataframe to an interactive table.\"\n",
              "              style=\"display:none;\">\n",
              "        \n",
              "  <svg xmlns=\"http://www.w3.org/2000/svg\" height=\"24px\"viewBox=\"0 0 24 24\"\n",
              "       width=\"24px\">\n",
              "    <path d=\"M0 0h24v24H0V0z\" fill=\"none\"/>\n",
              "    <path d=\"M18.56 5.44l.94 2.06.94-2.06 2.06-.94-2.06-.94-.94-2.06-.94 2.06-2.06.94zm-11 1L8.5 8.5l.94-2.06 2.06-.94-2.06-.94L8.5 2.5l-.94 2.06-2.06.94zm10 10l.94 2.06.94-2.06 2.06-.94-2.06-.94-.94-2.06-.94 2.06-2.06.94z\"/><path d=\"M17.41 7.96l-1.37-1.37c-.4-.4-.92-.59-1.43-.59-.52 0-1.04.2-1.43.59L10.3 9.45l-7.72 7.72c-.78.78-.78 2.05 0 2.83L4 21.41c.39.39.9.59 1.41.59.51 0 1.02-.2 1.41-.59l7.78-7.78 2.81-2.81c.8-.78.8-2.07 0-2.86zM5.41 20L4 18.59l7.72-7.72 1.47 1.35L5.41 20z\"/>\n",
              "  </svg>\n",
              "      </button>\n",
              "      \n",
              "  <style>\n",
              "    .colab-df-container {\n",
              "      display:flex;\n",
              "      flex-wrap:wrap;\n",
              "      gap: 12px;\n",
              "    }\n",
              "\n",
              "    .colab-df-convert {\n",
              "      background-color: #E8F0FE;\n",
              "      border: none;\n",
              "      border-radius: 50%;\n",
              "      cursor: pointer;\n",
              "      display: none;\n",
              "      fill: #1967D2;\n",
              "      height: 32px;\n",
              "      padding: 0 0 0 0;\n",
              "      width: 32px;\n",
              "    }\n",
              "\n",
              "    .colab-df-convert:hover {\n",
              "      background-color: #E2EBFA;\n",
              "      box-shadow: 0px 1px 2px rgba(60, 64, 67, 0.3), 0px 1px 3px 1px rgba(60, 64, 67, 0.15);\n",
              "      fill: #174EA6;\n",
              "    }\n",
              "\n",
              "    [theme=dark] .colab-df-convert {\n",
              "      background-color: #3B4455;\n",
              "      fill: #D2E3FC;\n",
              "    }\n",
              "\n",
              "    [theme=dark] .colab-df-convert:hover {\n",
              "      background-color: #434B5C;\n",
              "      box-shadow: 0px 1px 3px 1px rgba(0, 0, 0, 0.15);\n",
              "      filter: drop-shadow(0px 1px 2px rgba(0, 0, 0, 0.3));\n",
              "      fill: #FFFFFF;\n",
              "    }\n",
              "  </style>\n",
              "\n",
              "      <script>\n",
              "        const buttonEl =\n",
              "          document.querySelector('#df-02582594-d5d2-437c-9055-4ead9841d267 button.colab-df-convert');\n",
              "        buttonEl.style.display =\n",
              "          google.colab.kernel.accessAllowed ? 'block' : 'none';\n",
              "\n",
              "        async function convertToInteractive(key) {\n",
              "          const element = document.querySelector('#df-02582594-d5d2-437c-9055-4ead9841d267');\n",
              "          const dataTable =\n",
              "            await google.colab.kernel.invokeFunction('convertToInteractive',\n",
              "                                                     [key], {});\n",
              "          if (!dataTable) return;\n",
              "\n",
              "          const docLinkHtml = 'Like what you see? Visit the ' +\n",
              "            '<a target=\"_blank\" href=https://colab.research.google.com/notebooks/data_table.ipynb>data table notebook</a>'\n",
              "            + ' to learn more about interactive tables.';\n",
              "          element.innerHTML = '';\n",
              "          dataTable['output_type'] = 'display_data';\n",
              "          await google.colab.output.renderOutput(dataTable, element);\n",
              "          const docLink = document.createElement('div');\n",
              "          docLink.innerHTML = docLinkHtml;\n",
              "          element.appendChild(docLink);\n",
              "        }\n",
              "      </script>\n",
              "    </div>\n",
              "  </div>\n",
              "  "
            ]
          },
          "metadata": {},
          "execution_count": 2
        }
      ]
    },
    {
      "cell_type": "markdown",
      "source": [
        "Τυπώνοντας τα πρώτα αποτελέσματα στην οθόνη μπορούμε να δούμε οτι δεν υπάρχουν labels να περιγράφουν τις στήλες του συνόλου. Έχωντας μελετήσει το αρχείο `ecoli.names` το οποίο περιέχει πληροφορίες για το σύνολο δεδομένων, μπορούμε να βρούμε τα ονόματα της κάθε στήλης και να τα προσθέσουμε στο Dataframe. Στην διαδικασία της ανάλυσης μπορεί να μην χρειαστούν, αλλά τα προσθέτουμε για την δική μας διευκόλυνση."
      ],
      "metadata": {
        "id": "KGRWJFi0DquB"
      }
    },
    {
      "cell_type": "code",
      "source": [
        "df.columns = ['Sequence Name', 'mcg', 'gvh', 'lip', 'chg', 'aac', 'alm1', 'alm2','target']\n",
        "df.head(8)"
      ],
      "metadata": {
        "colab": {
          "base_uri": "https://localhost:8080/",
          "height": 300
        },
        "id": "WHZt37LoSzSw",
        "outputId": "efcd3bdb-035e-47de-b6cc-7a97be44e847"
      },
      "execution_count": 3,
      "outputs": [
        {
          "output_type": "execute_result",
          "data": {
            "text/plain": [
              "  Sequence Name   mcg   gvh   lip  chg   aac  alm1  alm2 target\n",
              "0    ACEA_ECOLI  0.07  0.40  0.48  0.5  0.54  0.35  0.44     cp\n",
              "1    ACEK_ECOLI  0.56  0.40  0.48  0.5  0.49  0.37  0.46     cp\n",
              "2    ACKA_ECOLI  0.59  0.49  0.48  0.5  0.52  0.45  0.36     cp\n",
              "3     ADI_ECOLI  0.23  0.32  0.48  0.5  0.55  0.25  0.35     cp\n",
              "4    ALKH_ECOLI  0.67  0.39  0.48  0.5  0.36  0.38  0.46     cp\n",
              "5    AMPD_ECOLI  0.29  0.28  0.48  0.5  0.44  0.23  0.34     cp\n",
              "6    AMY2_ECOLI  0.21  0.34  0.48  0.5  0.51  0.28  0.39     cp\n",
              "7     APT_ECOLI  0.20  0.44  0.48  0.5  0.46  0.51  0.57     cp"
            ],
            "text/html": [
              "\n",
              "  <div id=\"df-c439cc37-0a2a-43a7-a8f4-18d508cbb199\">\n",
              "    <div class=\"colab-df-container\">\n",
              "      <div>\n",
              "<style scoped>\n",
              "    .dataframe tbody tr th:only-of-type {\n",
              "        vertical-align: middle;\n",
              "    }\n",
              "\n",
              "    .dataframe tbody tr th {\n",
              "        vertical-align: top;\n",
              "    }\n",
              "\n",
              "    .dataframe thead th {\n",
              "        text-align: right;\n",
              "    }\n",
              "</style>\n",
              "<table border=\"1\" class=\"dataframe\">\n",
              "  <thead>\n",
              "    <tr style=\"text-align: right;\">\n",
              "      <th></th>\n",
              "      <th>Sequence Name</th>\n",
              "      <th>mcg</th>\n",
              "      <th>gvh</th>\n",
              "      <th>lip</th>\n",
              "      <th>chg</th>\n",
              "      <th>aac</th>\n",
              "      <th>alm1</th>\n",
              "      <th>alm2</th>\n",
              "      <th>target</th>\n",
              "    </tr>\n",
              "  </thead>\n",
              "  <tbody>\n",
              "    <tr>\n",
              "      <th>0</th>\n",
              "      <td>ACEA_ECOLI</td>\n",
              "      <td>0.07</td>\n",
              "      <td>0.40</td>\n",
              "      <td>0.48</td>\n",
              "      <td>0.5</td>\n",
              "      <td>0.54</td>\n",
              "      <td>0.35</td>\n",
              "      <td>0.44</td>\n",
              "      <td>cp</td>\n",
              "    </tr>\n",
              "    <tr>\n",
              "      <th>1</th>\n",
              "      <td>ACEK_ECOLI</td>\n",
              "      <td>0.56</td>\n",
              "      <td>0.40</td>\n",
              "      <td>0.48</td>\n",
              "      <td>0.5</td>\n",
              "      <td>0.49</td>\n",
              "      <td>0.37</td>\n",
              "      <td>0.46</td>\n",
              "      <td>cp</td>\n",
              "    </tr>\n",
              "    <tr>\n",
              "      <th>2</th>\n",
              "      <td>ACKA_ECOLI</td>\n",
              "      <td>0.59</td>\n",
              "      <td>0.49</td>\n",
              "      <td>0.48</td>\n",
              "      <td>0.5</td>\n",
              "      <td>0.52</td>\n",
              "      <td>0.45</td>\n",
              "      <td>0.36</td>\n",
              "      <td>cp</td>\n",
              "    </tr>\n",
              "    <tr>\n",
              "      <th>3</th>\n",
              "      <td>ADI_ECOLI</td>\n",
              "      <td>0.23</td>\n",
              "      <td>0.32</td>\n",
              "      <td>0.48</td>\n",
              "      <td>0.5</td>\n",
              "      <td>0.55</td>\n",
              "      <td>0.25</td>\n",
              "      <td>0.35</td>\n",
              "      <td>cp</td>\n",
              "    </tr>\n",
              "    <tr>\n",
              "      <th>4</th>\n",
              "      <td>ALKH_ECOLI</td>\n",
              "      <td>0.67</td>\n",
              "      <td>0.39</td>\n",
              "      <td>0.48</td>\n",
              "      <td>0.5</td>\n",
              "      <td>0.36</td>\n",
              "      <td>0.38</td>\n",
              "      <td>0.46</td>\n",
              "      <td>cp</td>\n",
              "    </tr>\n",
              "    <tr>\n",
              "      <th>5</th>\n",
              "      <td>AMPD_ECOLI</td>\n",
              "      <td>0.29</td>\n",
              "      <td>0.28</td>\n",
              "      <td>0.48</td>\n",
              "      <td>0.5</td>\n",
              "      <td>0.44</td>\n",
              "      <td>0.23</td>\n",
              "      <td>0.34</td>\n",
              "      <td>cp</td>\n",
              "    </tr>\n",
              "    <tr>\n",
              "      <th>6</th>\n",
              "      <td>AMY2_ECOLI</td>\n",
              "      <td>0.21</td>\n",
              "      <td>0.34</td>\n",
              "      <td>0.48</td>\n",
              "      <td>0.5</td>\n",
              "      <td>0.51</td>\n",
              "      <td>0.28</td>\n",
              "      <td>0.39</td>\n",
              "      <td>cp</td>\n",
              "    </tr>\n",
              "    <tr>\n",
              "      <th>7</th>\n",
              "      <td>APT_ECOLI</td>\n",
              "      <td>0.20</td>\n",
              "      <td>0.44</td>\n",
              "      <td>0.48</td>\n",
              "      <td>0.5</td>\n",
              "      <td>0.46</td>\n",
              "      <td>0.51</td>\n",
              "      <td>0.57</td>\n",
              "      <td>cp</td>\n",
              "    </tr>\n",
              "  </tbody>\n",
              "</table>\n",
              "</div>\n",
              "      <button class=\"colab-df-convert\" onclick=\"convertToInteractive('df-c439cc37-0a2a-43a7-a8f4-18d508cbb199')\"\n",
              "              title=\"Convert this dataframe to an interactive table.\"\n",
              "              style=\"display:none;\">\n",
              "        \n",
              "  <svg xmlns=\"http://www.w3.org/2000/svg\" height=\"24px\"viewBox=\"0 0 24 24\"\n",
              "       width=\"24px\">\n",
              "    <path d=\"M0 0h24v24H0V0z\" fill=\"none\"/>\n",
              "    <path d=\"M18.56 5.44l.94 2.06.94-2.06 2.06-.94-2.06-.94-.94-2.06-.94 2.06-2.06.94zm-11 1L8.5 8.5l.94-2.06 2.06-.94-2.06-.94L8.5 2.5l-.94 2.06-2.06.94zm10 10l.94 2.06.94-2.06 2.06-.94-2.06-.94-.94-2.06-.94 2.06-2.06.94z\"/><path d=\"M17.41 7.96l-1.37-1.37c-.4-.4-.92-.59-1.43-.59-.52 0-1.04.2-1.43.59L10.3 9.45l-7.72 7.72c-.78.78-.78 2.05 0 2.83L4 21.41c.39.39.9.59 1.41.59.51 0 1.02-.2 1.41-.59l7.78-7.78 2.81-2.81c.8-.78.8-2.07 0-2.86zM5.41 20L4 18.59l7.72-7.72 1.47 1.35L5.41 20z\"/>\n",
              "  </svg>\n",
              "      </button>\n",
              "      \n",
              "  <style>\n",
              "    .colab-df-container {\n",
              "      display:flex;\n",
              "      flex-wrap:wrap;\n",
              "      gap: 12px;\n",
              "    }\n",
              "\n",
              "    .colab-df-convert {\n",
              "      background-color: #E8F0FE;\n",
              "      border: none;\n",
              "      border-radius: 50%;\n",
              "      cursor: pointer;\n",
              "      display: none;\n",
              "      fill: #1967D2;\n",
              "      height: 32px;\n",
              "      padding: 0 0 0 0;\n",
              "      width: 32px;\n",
              "    }\n",
              "\n",
              "    .colab-df-convert:hover {\n",
              "      background-color: #E2EBFA;\n",
              "      box-shadow: 0px 1px 2px rgba(60, 64, 67, 0.3), 0px 1px 3px 1px rgba(60, 64, 67, 0.15);\n",
              "      fill: #174EA6;\n",
              "    }\n",
              "\n",
              "    [theme=dark] .colab-df-convert {\n",
              "      background-color: #3B4455;\n",
              "      fill: #D2E3FC;\n",
              "    }\n",
              "\n",
              "    [theme=dark] .colab-df-convert:hover {\n",
              "      background-color: #434B5C;\n",
              "      box-shadow: 0px 1px 3px 1px rgba(0, 0, 0, 0.15);\n",
              "      filter: drop-shadow(0px 1px 2px rgba(0, 0, 0, 0.3));\n",
              "      fill: #FFFFFF;\n",
              "    }\n",
              "  </style>\n",
              "\n",
              "      <script>\n",
              "        const buttonEl =\n",
              "          document.querySelector('#df-c439cc37-0a2a-43a7-a8f4-18d508cbb199 button.colab-df-convert');\n",
              "        buttonEl.style.display =\n",
              "          google.colab.kernel.accessAllowed ? 'block' : 'none';\n",
              "\n",
              "        async function convertToInteractive(key) {\n",
              "          const element = document.querySelector('#df-c439cc37-0a2a-43a7-a8f4-18d508cbb199');\n",
              "          const dataTable =\n",
              "            await google.colab.kernel.invokeFunction('convertToInteractive',\n",
              "                                                     [key], {});\n",
              "          if (!dataTable) return;\n",
              "\n",
              "          const docLinkHtml = 'Like what you see? Visit the ' +\n",
              "            '<a target=\"_blank\" href=https://colab.research.google.com/notebooks/data_table.ipynb>data table notebook</a>'\n",
              "            + ' to learn more about interactive tables.';\n",
              "          element.innerHTML = '';\n",
              "          dataTable['output_type'] = 'display_data';\n",
              "          await google.colab.output.renderOutput(dataTable, element);\n",
              "          const docLink = document.createElement('div');\n",
              "          docLink.innerHTML = docLinkHtml;\n",
              "          element.appendChild(docLink);\n",
              "        }\n",
              "      </script>\n",
              "    </div>\n",
              "  </div>\n",
              "  "
            ]
          },
          "metadata": {},
          "execution_count": 3
        }
      ]
    },
    {
      "cell_type": "markdown",
      "source": [
        "# **Εξερεύνηση δεδομένων**"
      ],
      "metadata": {
        "id": "KIRtTGfuF_nF"
      }
    },
    {
      "cell_type": "markdown",
      "source": [
        "### **Ελλειπείς τιμές**"
      ],
      "metadata": {
        "id": "I92iL1obu3ok"
      }
    },
    {
      "cell_type": "markdown",
      "source": [
        "Για αρχή, κάνουμε έναν έλεγχο για ελλειπείς τιμές σε κάποια απο τις στήλες του συνόλου, και βλέπουμε οτι δεν υπάρχει κάποια έλλειψη."
      ],
      "metadata": {
        "id": "45vEmLqzGmbP"
      }
    },
    {
      "cell_type": "code",
      "source": [
        "df.isnull().sum()"
      ],
      "metadata": {
        "colab": {
          "base_uri": "https://localhost:8080/"
        },
        "id": "jt9PJCSrWE8m",
        "outputId": "ee5ca31a-69e2-4290-f2eb-0163735ac5b3"
      },
      "execution_count": 4,
      "outputs": [
        {
          "output_type": "execute_result",
          "data": {
            "text/plain": [
              "Sequence Name    0\n",
              "mcg              0\n",
              "gvh              0\n",
              "lip              0\n",
              "chg              0\n",
              "aac              0\n",
              "alm1             0\n",
              "alm2             0\n",
              "target           0\n",
              "dtype: int64"
            ]
          },
          "metadata": {},
          "execution_count": 4
        }
      ]
    },
    {
      "cell_type": "markdown",
      "source": [
        "### **Στατιστικά Dataframe**"
      ],
      "metadata": {
        "id": "Qc6lxBbsu-ad"
      }
    },
    {
      "cell_type": "markdown",
      "source": [
        "Με την χρήση της εντολής `.describe()` μπορούμε να δούμε κάποια χρήσιμα στατιστικά που περιγράφουν το σύνολο δεδομένων, όπως μέση τιμή, τυπική απόκλειση, ελάχιστη και μέγιστη τιμή παρατηρήσεων κλπ."
      ],
      "metadata": {
        "id": "6AtCatksHW3s"
      }
    },
    {
      "cell_type": "code",
      "source": [
        "df.describe()"
      ],
      "metadata": {
        "colab": {
          "base_uri": "https://localhost:8080/",
          "height": 300
        },
        "id": "EMaYL6utVXi3",
        "outputId": "2ff1fd84-1cfc-420f-9c6f-75b9387ca80e"
      },
      "execution_count": 5,
      "outputs": [
        {
          "output_type": "execute_result",
          "data": {
            "text/plain": [
              "              mcg         gvh         lip         chg         aac        alm1  \\\n",
              "count  335.000000  335.000000  335.000000  335.000000  335.000000  335.000000   \n",
              "mean     0.500090    0.500627    0.495522    0.501493    0.499851    0.500955   \n",
              "std      0.194924    0.147932    0.088624    0.027318    0.122515    0.215603   \n",
              "min      0.000000    0.160000    0.480000    0.500000    0.000000    0.030000   \n",
              "25%      0.340000    0.400000    0.480000    0.500000    0.420000    0.330000   \n",
              "50%      0.500000    0.470000    0.480000    0.500000    0.490000    0.460000   \n",
              "75%      0.665000    0.570000    0.480000    0.500000    0.570000    0.710000   \n",
              "max      0.890000    1.000000    1.000000    1.000000    0.880000    1.000000   \n",
              "\n",
              "             alm2  \n",
              "count  335.000000  \n",
              "mean     0.500179  \n",
              "std      0.209563  \n",
              "min      0.000000  \n",
              "25%      0.350000  \n",
              "50%      0.430000  \n",
              "75%      0.710000  \n",
              "max      0.990000  "
            ],
            "text/html": [
              "\n",
              "  <div id=\"df-0f161c12-26ef-4b2a-b1ed-bad318bd5b9a\">\n",
              "    <div class=\"colab-df-container\">\n",
              "      <div>\n",
              "<style scoped>\n",
              "    .dataframe tbody tr th:only-of-type {\n",
              "        vertical-align: middle;\n",
              "    }\n",
              "\n",
              "    .dataframe tbody tr th {\n",
              "        vertical-align: top;\n",
              "    }\n",
              "\n",
              "    .dataframe thead th {\n",
              "        text-align: right;\n",
              "    }\n",
              "</style>\n",
              "<table border=\"1\" class=\"dataframe\">\n",
              "  <thead>\n",
              "    <tr style=\"text-align: right;\">\n",
              "      <th></th>\n",
              "      <th>mcg</th>\n",
              "      <th>gvh</th>\n",
              "      <th>lip</th>\n",
              "      <th>chg</th>\n",
              "      <th>aac</th>\n",
              "      <th>alm1</th>\n",
              "      <th>alm2</th>\n",
              "    </tr>\n",
              "  </thead>\n",
              "  <tbody>\n",
              "    <tr>\n",
              "      <th>count</th>\n",
              "      <td>335.000000</td>\n",
              "      <td>335.000000</td>\n",
              "      <td>335.000000</td>\n",
              "      <td>335.000000</td>\n",
              "      <td>335.000000</td>\n",
              "      <td>335.000000</td>\n",
              "      <td>335.000000</td>\n",
              "    </tr>\n",
              "    <tr>\n",
              "      <th>mean</th>\n",
              "      <td>0.500090</td>\n",
              "      <td>0.500627</td>\n",
              "      <td>0.495522</td>\n",
              "      <td>0.501493</td>\n",
              "      <td>0.499851</td>\n",
              "      <td>0.500955</td>\n",
              "      <td>0.500179</td>\n",
              "    </tr>\n",
              "    <tr>\n",
              "      <th>std</th>\n",
              "      <td>0.194924</td>\n",
              "      <td>0.147932</td>\n",
              "      <td>0.088624</td>\n",
              "      <td>0.027318</td>\n",
              "      <td>0.122515</td>\n",
              "      <td>0.215603</td>\n",
              "      <td>0.209563</td>\n",
              "    </tr>\n",
              "    <tr>\n",
              "      <th>min</th>\n",
              "      <td>0.000000</td>\n",
              "      <td>0.160000</td>\n",
              "      <td>0.480000</td>\n",
              "      <td>0.500000</td>\n",
              "      <td>0.000000</td>\n",
              "      <td>0.030000</td>\n",
              "      <td>0.000000</td>\n",
              "    </tr>\n",
              "    <tr>\n",
              "      <th>25%</th>\n",
              "      <td>0.340000</td>\n",
              "      <td>0.400000</td>\n",
              "      <td>0.480000</td>\n",
              "      <td>0.500000</td>\n",
              "      <td>0.420000</td>\n",
              "      <td>0.330000</td>\n",
              "      <td>0.350000</td>\n",
              "    </tr>\n",
              "    <tr>\n",
              "      <th>50%</th>\n",
              "      <td>0.500000</td>\n",
              "      <td>0.470000</td>\n",
              "      <td>0.480000</td>\n",
              "      <td>0.500000</td>\n",
              "      <td>0.490000</td>\n",
              "      <td>0.460000</td>\n",
              "      <td>0.430000</td>\n",
              "    </tr>\n",
              "    <tr>\n",
              "      <th>75%</th>\n",
              "      <td>0.665000</td>\n",
              "      <td>0.570000</td>\n",
              "      <td>0.480000</td>\n",
              "      <td>0.500000</td>\n",
              "      <td>0.570000</td>\n",
              "      <td>0.710000</td>\n",
              "      <td>0.710000</td>\n",
              "    </tr>\n",
              "    <tr>\n",
              "      <th>max</th>\n",
              "      <td>0.890000</td>\n",
              "      <td>1.000000</td>\n",
              "      <td>1.000000</td>\n",
              "      <td>1.000000</td>\n",
              "      <td>0.880000</td>\n",
              "      <td>1.000000</td>\n",
              "      <td>0.990000</td>\n",
              "    </tr>\n",
              "  </tbody>\n",
              "</table>\n",
              "</div>\n",
              "      <button class=\"colab-df-convert\" onclick=\"convertToInteractive('df-0f161c12-26ef-4b2a-b1ed-bad318bd5b9a')\"\n",
              "              title=\"Convert this dataframe to an interactive table.\"\n",
              "              style=\"display:none;\">\n",
              "        \n",
              "  <svg xmlns=\"http://www.w3.org/2000/svg\" height=\"24px\"viewBox=\"0 0 24 24\"\n",
              "       width=\"24px\">\n",
              "    <path d=\"M0 0h24v24H0V0z\" fill=\"none\"/>\n",
              "    <path d=\"M18.56 5.44l.94 2.06.94-2.06 2.06-.94-2.06-.94-.94-2.06-.94 2.06-2.06.94zm-11 1L8.5 8.5l.94-2.06 2.06-.94-2.06-.94L8.5 2.5l-.94 2.06-2.06.94zm10 10l.94 2.06.94-2.06 2.06-.94-2.06-.94-.94-2.06-.94 2.06-2.06.94z\"/><path d=\"M17.41 7.96l-1.37-1.37c-.4-.4-.92-.59-1.43-.59-.52 0-1.04.2-1.43.59L10.3 9.45l-7.72 7.72c-.78.78-.78 2.05 0 2.83L4 21.41c.39.39.9.59 1.41.59.51 0 1.02-.2 1.41-.59l7.78-7.78 2.81-2.81c.8-.78.8-2.07 0-2.86zM5.41 20L4 18.59l7.72-7.72 1.47 1.35L5.41 20z\"/>\n",
              "  </svg>\n",
              "      </button>\n",
              "      \n",
              "  <style>\n",
              "    .colab-df-container {\n",
              "      display:flex;\n",
              "      flex-wrap:wrap;\n",
              "      gap: 12px;\n",
              "    }\n",
              "\n",
              "    .colab-df-convert {\n",
              "      background-color: #E8F0FE;\n",
              "      border: none;\n",
              "      border-radius: 50%;\n",
              "      cursor: pointer;\n",
              "      display: none;\n",
              "      fill: #1967D2;\n",
              "      height: 32px;\n",
              "      padding: 0 0 0 0;\n",
              "      width: 32px;\n",
              "    }\n",
              "\n",
              "    .colab-df-convert:hover {\n",
              "      background-color: #E2EBFA;\n",
              "      box-shadow: 0px 1px 2px rgba(60, 64, 67, 0.3), 0px 1px 3px 1px rgba(60, 64, 67, 0.15);\n",
              "      fill: #174EA6;\n",
              "    }\n",
              "\n",
              "    [theme=dark] .colab-df-convert {\n",
              "      background-color: #3B4455;\n",
              "      fill: #D2E3FC;\n",
              "    }\n",
              "\n",
              "    [theme=dark] .colab-df-convert:hover {\n",
              "      background-color: #434B5C;\n",
              "      box-shadow: 0px 1px 3px 1px rgba(0, 0, 0, 0.15);\n",
              "      filter: drop-shadow(0px 1px 2px rgba(0, 0, 0, 0.3));\n",
              "      fill: #FFFFFF;\n",
              "    }\n",
              "  </style>\n",
              "\n",
              "      <script>\n",
              "        const buttonEl =\n",
              "          document.querySelector('#df-0f161c12-26ef-4b2a-b1ed-bad318bd5b9a button.colab-df-convert');\n",
              "        buttonEl.style.display =\n",
              "          google.colab.kernel.accessAllowed ? 'block' : 'none';\n",
              "\n",
              "        async function convertToInteractive(key) {\n",
              "          const element = document.querySelector('#df-0f161c12-26ef-4b2a-b1ed-bad318bd5b9a');\n",
              "          const dataTable =\n",
              "            await google.colab.kernel.invokeFunction('convertToInteractive',\n",
              "                                                     [key], {});\n",
              "          if (!dataTable) return;\n",
              "\n",
              "          const docLinkHtml = 'Like what you see? Visit the ' +\n",
              "            '<a target=\"_blank\" href=https://colab.research.google.com/notebooks/data_table.ipynb>data table notebook</a>'\n",
              "            + ' to learn more about interactive tables.';\n",
              "          element.innerHTML = '';\n",
              "          dataTable['output_type'] = 'display_data';\n",
              "          await google.colab.output.renderOutput(dataTable, element);\n",
              "          const docLink = document.createElement('div');\n",
              "          docLink.innerHTML = docLinkHtml;\n",
              "          element.appendChild(docLink);\n",
              "        }\n",
              "      </script>\n",
              "    </div>\n",
              "  </div>\n",
              "  "
            ]
          },
          "metadata": {},
          "execution_count": 5
        }
      ]
    },
    {
      "cell_type": "markdown",
      "source": [
        "### **Συντελεστής συσχέτισης**"
      ],
      "metadata": {
        "id": "2ahL2ACQvGfM"
      }
    },
    {
      "cell_type": "markdown",
      "source": [
        "Στην συνέχεια, μπορύμε να υπολογίσουμε το συντελεστή γραμικής συσχέτισης για την εύρεση της συσχέτισης μεταξύ των στηλών του Dataframe. Ο συντελεστής αυτός μπορεί να εκτιμήσει το βαθμό γραμμικής συσχέτισης μεταξύ των μεταβλητών και κυμαίνεται μεταξύ του 0 (καμία συσχέτιση) και 1 (πλήρης θετική γραμμική συσχέτιση), με τις τιμές κάτω απο 0 να δηλώνουν αρνητική γραμμική συχέτιση.\n",
        "\n",
        "Για την απεικόνιση αυτού, χρησιμοποιούμε ένα heatmap απο την βιβλιοθήκη `seaborn`, το οποίο αναπαριστά χρωματικά την συσχέτιση αυτή. Όπως παρατηρούμε, η πιο ισχυρή συσχέτιση στηλών είναι αυτή με το πιο φωτεινό χρώμα. Αυτή, πέρα απο την κύρια διαγώνιο του πίνακα, είναι μεταξύ των στηλών **alm1** και **alm2**. Ενώ αντίστοιχα, αρνητική συσχέτιση παρουσιάζουν οι στήλες **alm2** και **gvh**."
      ],
      "metadata": {
        "id": "1SlBF0ZHalet"
      }
    },
    {
      "cell_type": "code",
      "source": [
        "plt.figure(figsize=(10, 8))\n",
        "\n",
        "heatmap = sns.heatmap(df.corr(), annot=True)\n",
        "heatmap.set_title('Correlation Heatmap', fontdict={'fontsize':8}, pad=12)\n",
        "plt.show()"
      ],
      "metadata": {
        "colab": {
          "base_uri": "https://localhost:8080/",
          "height": 502
        },
        "id": "RpmbUUt_cwO8",
        "outputId": "036b311b-b53c-4f51-9af2-ca00061b8286"
      },
      "execution_count": 6,
      "outputs": [
        {
          "output_type": "display_data",
          "data": {
            "text/plain": [
              "<Figure size 720x576 with 2 Axes>"
            ],
            "image/png": "[encoded data removed]"
          },
          "metadata": {
            "needs_background": "light"
          }
        }
      ]
    },
    {
      "cell_type": "markdown",
      "source": [
        "### **Ιστογράμματα μεταβλητών**"
      ],
      "metadata": {
        "id": "SG20u3hhvsh8"
      }
    },
    {
      "cell_type": "markdown",
      "source": [
        "Στο επόμενο κομμάτι κώδικα, σχεδιάζουμε ένα ιστόγραμμα για κάθε στήλη του Dataframe, με σκοπό να έχουμε μια εικόνα για την κατανομή των τιμών της εκάστοτε στήλης. Για την απεικόνιση τους, χρησιμοποιούμε ξανά την βιβλιοθήκη `seaborn`.\n",
        "\n",
        "Μεγάλο ενδιαφέρον παρουσιάζουν τα αποτελέσματα που παράγονται:\n",
        "1. Διαπιστώνουμε οτι οι τιμές της μεταβλητής Sequence Name δεν είναι καθόλου ευδιάκριτες, που σημαίνει οτι θα πρέπει να το ερευνήσουμε παραπάνω μετέπειτα.\n",
        "2. Οι περισσότερες μεταβλητές ακολουθούν μια κανονική κατανομή στις τιμές τους, όμως η μεταβλητή **target** παρουσιάζει μια **μη ισορροπημένη** κατανομή στις τιμές των κλάσεων της. Σίγουρα μπορούμε να το ερευνήσουμε παραπάνω."
      ],
      "metadata": {
        "id": "psrXj1RNd2NE"
      }
    },
    {
      "cell_type": "code",
      "source": [
        "sns.set(font_scale=1)\n",
        "sns.set_style('whitegrid')\n",
        "\n",
        "# scatter plots of each column (variable)\n",
        "# define the number of subplots (number of rows x number of columns) \n",
        "n_rows=3\n",
        "n_cols=3\n",
        "\n",
        "# Create the subplots\n",
        "fig, axes = plt.subplots(nrows=n_rows, ncols=n_cols, figsize=(15, 15))\n",
        "for i, column in enumerate(df):\n",
        "    sns.histplot(data=df, x=column, kde=True, ax=axes[i // n_cols, i % n_cols])"
      ],
      "metadata": {
        "colab": {
          "base_uri": "https://localhost:8080/",
          "height": 883
        },
        "id": "Ly4qYQkv-vKJ",
        "outputId": "5a37efd9-b513-4129-abba-ded80ce136a6"
      },
      "execution_count": 7,
      "outputs": [
        {
          "output_type": "display_data",
          "data": {
            "text/plain": [
              "<Figure size 1080x1080 with 9 Axes>"
            ],
            "image/png": "[encoded data removed]"
          },
          "metadata": {}
        }
      ]
    },
    {
      "cell_type": "markdown",
      "source": [
        "### **Υπολογισμός μοναδικών τιμών**"
      ],
      "metadata": {
        "id": "4yaw-z5LwkxW"
      }
    },
    {
      "cell_type": "markdown",
      "source": [
        "Ερευνόντας περεταίρω τις παραπάνω παρατηρήσεις, βρίσκουμε τις μοναδικές τιμές που έχει η μεταβλητή Sequence Name μέσω της εντολής `.unique()` και υπολογίζουμε το άθροισμα τους.\n",
        "\n",
        "Παρατηρούμε οτι υπάρχουν 335 ξεχωριστές τιμές για την συγκεκριμένη μεταβλητή και ελέγχοντας το σχήμα (μέγεθος πίνακα) του Dataframe μας, βλέπουμε οτι τόσες είναι και οι γραμμές (εγγραφές) που το απαρτίζουν. Καταλαβαίνουμε λοιπόν οτι αυτή η μεταβλητή λειτουργέι σαν **unique identifier** της κάθε εγγραφής, και δεν θα μας είναι αρκετά χρήσιμη στην ανάλυση που θα ακολουθήσει."
      ],
      "metadata": {
        "id": "8LCcTMqihAM_"
      }
    },
    {
      "cell_type": "code",
      "source": [
        "len(df['Sequence Name'].unique())"
      ],
      "metadata": {
        "colab": {
          "base_uri": "https://localhost:8080/"
        },
        "id": "Jyp6GrCCg-7S",
        "outputId": "166225cc-16e1-4ee6-861d-5a63b616d9a3"
      },
      "execution_count": 8,
      "outputs": [
        {
          "output_type": "execute_result",
          "data": {
            "text/plain": [
              "335"
            ]
          },
          "metadata": {},
          "execution_count": 8
        }
      ]
    },
    {
      "cell_type": "code",
      "source": [
        "df.shape"
      ],
      "metadata": {
        "colab": {
          "base_uri": "https://localhost:8080/"
        },
        "id": "ciOF9z54hQb7",
        "outputId": "6be076bc-ebe9-4adb-f3c2-5a50d716b360"
      },
      "execution_count": 9,
      "outputs": [
        {
          "output_type": "execute_result",
          "data": {
            "text/plain": [
              "(335, 9)"
            ]
          },
          "metadata": {},
          "execution_count": 9
        }
      ]
    },
    {
      "cell_type": "markdown",
      "source": [
        "### **Υπολογισμός κατανομής τιμών μεταβλητής στόχου**"
      ],
      "metadata": {
        "id": "ANf6m4gGw4tP"
      }
    },
    {
      "cell_type": "markdown",
      "source": [
        "Για την μεταβλητή target, ο παρακάτω κώδικας υπολογίζει το άθροισμα αλλά και το ποσοστό εμφάνισης, για κάθε μια απο τις τιμές της. Αυτό γίνεται με την βοήθεια της βιβλιοθήκης `collections` και συγκεκριμένα με το πακέτο `Counter`.\n",
        "\n",
        "Τα αποτελέσματα και σε αυτήν την περίπτωση έχουν ενδιαφέρον, καθώς επαληθέυονται οι αρχικές εκτιμήσεις περί μη ισορροπημένων κλάσεων.\n",
        "\n",
        "Η κλάση με όνομα **cp** κατέχει σχεδόν το **42.4%** όλων των τιμών της μεταβλητής, με την κλάση **im** να έρχεται σε δεύτερη θέση με μόλις το **22.9%** των εγγραφών."
      ],
      "metadata": {
        "id": "jIa-13y8lObX"
      }
    },
    {
      "cell_type": "code",
      "source": [
        "import collections\n",
        "from collections import Counter\n",
        "\n",
        "counter = Counter(df['target'])\n",
        "for i,j in counter.items():\n",
        "  percent = j / len(df['target']) * 100\n",
        "  print('Class: %s => count = %d, percentage = %.3f%%' % (i,j,percent))"
      ],
      "metadata": {
        "colab": {
          "base_uri": "https://localhost:8080/"
        },
        "id": "TtMFAfVbVvR4",
        "outputId": "a9f81d2c-1b92-4d64-f774-d03120daa476"
      },
      "execution_count": 10,
      "outputs": [
        {
          "output_type": "stream",
          "name": "stdout",
          "text": [
            "Class: cp => count = 142, percentage = 42.388%\n",
            "Class: im => count = 77, percentage = 22.985%\n",
            "Class: imS => count = 2, percentage = 0.597%\n",
            "Class: imL => count = 2, percentage = 0.597%\n",
            "Class: imU => count = 35, percentage = 10.448%\n",
            "Class: om => count = 20, percentage = 5.970%\n",
            "Class: omL => count = 5, percentage = 1.493%\n",
            "Class: pp => count = 52, percentage = 15.522%\n"
          ]
        }
      ]
    },
    {
      "cell_type": "markdown",
      "source": [
        "### **Οπτικοποίηση κατανομής τιμών μεταβλητής στόχου**\n",
        "\n"
      ],
      "metadata": {
        "id": "73x-MaSoxYex"
      }
    },
    {
      "cell_type": "markdown",
      "source": [
        "Για την οπτικοποίηση των παραπάνω αποτελεσμάτων, χρησιμοποιούμε ένα scatter plot, με την χρήση της βιβλιοθήκης `matplotlib`. Στον άξονα x τοποθετούμε την μεταβλητή **gvh** και στον άξονα y την μεταβλητή **alm2**, καθώς έχουν αρνητική γραμμική συσχέτιση μεταξύ τους, και θα κάνουν την εικόνα πιο ξεκάθαρη. Για την κάθε κλάση χρησιμοποιούμε ξεχωριστό χρώμα, όπως αναγράφεται και στο legend του σχήματος.\n",
        "\n",
        "Παρατηρούμε λοιπόν οτι και σχηματικά, οι δύο επικρατέστερες κλάσεις είναι οι **cp** και **im**, με την **pp** να έρχεται στην τρίτη θέση με ένα **15.5%** των εγγραφών."
      ],
      "metadata": {
        "id": "sFwv7WBoqk-4"
      }
    },
    {
      "cell_type": "code",
      "source": [
        "colors = ['red', 'green', 'yellow', 'blue', 'pink', 'black', 'purple', 'orange']\n",
        "species = ['cp','im','imS', 'imL', 'imU', 'om', 'omL', 'pp']\n",
        "\n",
        "for i in range(8):\n",
        "    x = df[df['target'] == species[i]]\n",
        "    plt.scatter(x['gvh'], x['alm2'], c = colors[i], label=species[i], alpha=0.4)\n",
        "plt.xlabel(\"gvh\")\n",
        "plt.ylabel(\"alm2\")\n",
        "plt.legend()"
      ],
      "metadata": {
        "colab": {
          "base_uri": "https://localhost:8080/",
          "height": 303
        },
        "id": "AvgK3A9fP5Au",
        "outputId": "41e9fa54-81c8-434d-984f-4e473b0d431e"
      },
      "execution_count": 11,
      "outputs": [
        {
          "output_type": "execute_result",
          "data": {
            "text/plain": [
              "<matplotlib.legend.Legend at 0x7fe591c2a710>"
            ]
          },
          "metadata": {},
          "execution_count": 11
        },
        {
          "output_type": "display_data",
          "data": {
            "text/plain": [
              "<Figure size 432x288 with 1 Axes>"
            ],
            "image/png": "[encoded data removed]"
          },
          "metadata": {}
        }
      ]
    },
    {
      "cell_type": "markdown",
      "source": [
        "# **Προεπεξεργασία δεδομένων**"
      ],
      "metadata": {
        "id": "9IDWl9DxsqfR"
      }
    },
    {
      "cell_type": "markdown",
      "source": [
        "Σε αυτό το σημείο τελειώνει η φάση της εξερεύνησης των δεδομένων, και προχωράμε στην εφαρμογή των μοντέλων κατηγοριοποίησης. Πρώτα όμως, ετοιμάζουμε την παρακάτω συνάρτηση για μια γρήγορα προεπεξεργασία των δεδομένων, βάσει των παρατηρήσεων που κάναμε μέχρι τώρα.\n",
        "\n",
        "Η συνάρτηση `prepare_data()` δέχεται σαν είσοδο ένα Dataframe και κάνει τις εξής αλλαγές σε αυτό:\n",
        "- Δημιουργέι ένα αντίγραφο για την διατήρηση του πρωτότυπου και εκτελεί όλες τις αλλαγές σε αυτό.\n",
        "- Αφαιρεί την στήλη **Sequence Name** που όπως είχαμε δεί δεν μας χρησιμεύει στην ανάλυση.\n",
        "- Με την χρήση του πακέτου `LabelEncoder()`, κωδικοποιεί τα ονόματα των κλάσεων στην μεταβλητή **target** ώστε να έχουν αριθμητικές τιμές και όχι χαρακτήρες (τιμές απο 0 έως 7)\n",
        "- Και τέλος, χωρίζει το σύνολο δεδομένων σε δύο υποσύνολα, ένα για την εκπαίδευση των μοντέλων και ένα για την επαλήθευση και επικύρωση των αποτελεσμάτων του εκάστοτε μοντέλου."
      ],
      "metadata": {
        "id": "HjMVZ5hNsDrU"
      }
    },
    {
      "cell_type": "code",
      "source": [
        "def prepare_data(df):\n",
        "\n",
        "  # Make a copy of the original dataset\n",
        "  df_copy = df.copy()\n",
        "\n",
        "  # Drop unnecessary column\n",
        "  df_copy = df_copy.drop('Sequence Name', axis=1)\n",
        "\n",
        "  # Label encoding\n",
        "  le = LabelEncoder()\n",
        "  df_copy['target'] = le.fit_transform(df_copy['target'])\n",
        "\n",
        "  # Train-Test split\n",
        "  X = df_copy.drop(columns=['target'])\n",
        "  y = df_copy['target']\n",
        "  X_train, X_test, y_train, y_test = train_test_split(X, y, test_size=0.3, random_state=1, stratify=y)\n",
        "\n",
        "  return X_train, X_test, y_train, y_test"
      ],
      "metadata": {
        "id": "5oKZWQb3_SMi"
      },
      "execution_count": 12,
      "outputs": []
    },
    {
      "cell_type": "markdown",
      "source": [
        "### **Δημιουργία συνόλων εκπαίδευσης και επαλήθευσης**"
      ],
      "metadata": {
        "id": "5r54dvZSxp60"
      }
    },
    {
      "cell_type": "markdown",
      "source": [
        "Με την χρήση των τεσσάρων παρακάτω μεταβλητών, καλούμε την συνάρτηση προεπεξεργασίας και δημιουργούμε τα νέα σύνολα δεδομένων που απαιτούντα για την εκπαίδευση και την επικύρωση των μοντέλων."
      ],
      "metadata": {
        "id": "TQY4ehNQzaoX"
      }
    },
    {
      "cell_type": "code",
      "source": [
        "X_train, X_test, y_train, y_test = prepare_data(df)"
      ],
      "metadata": {
        "id": "htjifeRhCqY_"
      },
      "execution_count": 13,
      "outputs": []
    },
    {
      "cell_type": "markdown",
      "source": [
        "# **Εφαρμογή μοντέλων κατηγοριοποίησης**"
      ],
      "metadata": {
        "id": "3pwRZcusldCW"
      }
    },
    {
      "cell_type": "markdown",
      "source": [
        "## **Logistic Regression**\n",
        "\n",
        "---\n",
        "\n"
      ],
      "metadata": {
        "id": "4mLcxPIGRTuc"
      }
    },
    {
      "cell_type": "markdown",
      "source": [
        "Ο πρώτος αλγόριθμος κατηγοριοποίησης που θα χρήσιμοποιήσουμε είναι αυτός της **Λογιστικής Παλινδρόμησης**.\n",
        "\n",
        "Αφού εισάγουμε το πακέτο, δημιουργούμε το μοντέλο καλώντας τον constructor `LogisticRegression()` στην μεταβλητή `lr_model`.\n",
        "\n",
        "Ύστερα, προσαρμόζουμε τα δεδομένα εκπαίδευσης στο μοντέλο, χρησιμοποιώντας την συνάρτηση `.fit()` η οποία δέχεται σαν παράμετρο τις δύο μεταβλητές Χ και y των δεδομένων εκπαίδευσης.\n",
        "\n",
        "Τέλος, εμφανίζουμε τα αποτελέσμα απόδοσης του μοντέλου στα δεδομένα εκπαίδευσης."
      ],
      "metadata": {
        "id": "qwXrz4KO08ya"
      }
    },
    {
      "cell_type": "code",
      "source": [
        "from sklearn.linear_model import LogisticRegression\n",
        "lr_model = LogisticRegression()\n",
        "\n",
        "lr_model.fit(X_train, y_train)\n",
        "\n",
        "print(\"Logistic Regression | Accuracy on training data: {:.2f}%\".format(lr_model.score(X_train, y_train) * 100))"
      ],
      "metadata": {
        "colab": {
          "base_uri": "https://localhost:8080/"
        },
        "id": "jKW9WvheP348",
        "outputId": "af6ef7ce-7688-4d16-b614-d67b5f092ff8"
      },
      "execution_count": 14,
      "outputs": [
        {
          "output_type": "stream",
          "name": "stdout",
          "text": [
            "Logistic Regression | Accuracy on training data: 79.49%\n"
          ]
        }
      ]
    },
    {
      "cell_type": "markdown",
      "source": [
        "Αντίστοιχα υπολογίζουμε τα αποτελέσματα απόδοσης του μοντέλου στα δεδομένα επαλήθευσης με την χρήση της συνάρτησης `.predict()`."
      ],
      "metadata": {
        "id": "SY4dsivMMmJ4"
      }
    },
    {
      "cell_type": "code",
      "source": [
        "lr_pred = lr_model.predict(X_test)\n",
        "\n",
        "lr_score = lr_model.score(X_test, y_test)\n",
        "print(\"Logistic Regression | Accuracy on testing data: {:.2f}%\".format(lr_score * 100))"
      ],
      "metadata": {
        "colab": {
          "base_uri": "https://localhost:8080/"
        },
        "id": "QPALYmRZfJgL",
        "outputId": "2c157ad1-6d4c-423f-c870-5009fc80c2a0"
      },
      "execution_count": 15,
      "outputs": [
        {
          "output_type": "stream",
          "name": "stdout",
          "text": [
            "Logistic Regression | Accuracy on testing data: 85.15%\n"
          ]
        }
      ]
    },
    {
      "cell_type": "markdown",
      "source": [
        "Στην συνέχεια υπολογίζουμε και απεικονίζουμε τον πίνακα σύγχησης για κάθε κλάση που πρόβλεψε το μοντέλο αξιοποιώντας την συνάρτηση `confusion_matrix()`."
      ],
      "metadata": {
        "id": "9exHEdFHNdxi"
      }
    },
    {
      "cell_type": "code",
      "source": [
        "cm = confusion_matrix(y_test, lr_pred)\n",
        "plt.figure(figsize=(6,6))\n",
        "sns.heatmap(cm, annot=True, vmin=0, cmap='Blues', cbar=False)\n",
        "plt.xticks(np.arange(5) + 0.5, lr_model.classes_)\n",
        "plt.yticks(np.arange(5) + 0.5, lr_model.classes_)\n",
        "plt.xlabel(\"Predicted\")\n",
        "plt.ylabel(\"Actual\")\n",
        "plt.title(\"Confusion Matrix\")\n",
        "plt.show()"
      ],
      "metadata": {
        "colab": {
          "base_uri": "https://localhost:8080/",
          "height": 410
        },
        "id": "upcgg4TKg4ft",
        "outputId": "9e9b884d-62e9-4ec2-923d-37bdbf8c7852"
      },
      "execution_count": 16,
      "outputs": [
        {
          "output_type": "display_data",
          "data": {
            "text/plain": [
              "<Figure size 432x432 with 1 Axes>"
            ],
            "image/png": "[encoded data removed]"
          },
          "metadata": {}
        }
      ]
    },
    {
      "cell_type": "markdown",
      "source": [
        "Τέλος, δύο ακόμα μετρικές που μπορούμε να υπολογίσουμε για την απόδοση του μοντέλου είναι η ακρίβεια και το f1 score. Αυτά γίνοτνται μέσω των συναρτήσεων `precision_score()` και `f1_score()` αντίστοιχα."
      ],
      "metadata": {
        "id": "u4Ivt3oqNgJl"
      }
    },
    {
      "cell_type": "code",
      "source": [
        "lr_prec = metrics.precision_score(y_test, lr_pred, average='weighted', zero_division=1)\n",
        "print(\"Logistic Regression | Precision: {:.2f}%\".format(lr_prec * 100))"
      ],
      "metadata": {
        "colab": {
          "base_uri": "https://localhost:8080/"
        },
        "id": "2iolZ-XW6EUE",
        "outputId": "dca0273a-f419-4648-8b80-79a17aa75024"
      },
      "execution_count": 17,
      "outputs": [
        {
          "output_type": "stream",
          "name": "stdout",
          "text": [
            "Logistic Regression | Precision: 86.07%\n"
          ]
        }
      ]
    },
    {
      "cell_type": "code",
      "source": [
        "lr_f1 = metrics.f1_score(y_test, lr_pred, average='weighted')\n",
        "print(\"Logistic Regression | F1 Score: {:.2f}%\".format(lr_f1 * 100))"
      ],
      "metadata": {
        "colab": {
          "base_uri": "https://localhost:8080/"
        },
        "id": "fopntnM-G7vB",
        "outputId": "27b5e3a3-5d61-4a8d-a4f6-133646a88409"
      },
      "execution_count": 18,
      "outputs": [
        {
          "output_type": "stream",
          "name": "stdout",
          "text": [
            "Logistic Regression | F1 Score: 82.61%\n"
          ]
        }
      ]
    },
    {
      "cell_type": "markdown",
      "source": [
        "## **K-Nearest Neighbors**\n",
        "\n",
        "---"
      ],
      "metadata": {
        "id": "JGy7jNBNRH3p"
      }
    },
    {
      "cell_type": "markdown",
      "source": [
        "Ο επόμενος αλγόριθμος που θα χρήσιμοποιήσουμε είναι ο **Κ-Κοντινότεροι Γείτονες**.\n",
        "\n",
        "Αφού εισάγουμε το πακέτο, δημιουργούμε το μοντέλο καλώντας τον constructor `KNeighborsClassifier()` στην μεταβλητή `knn_model`.\n",
        "\n",
        "Ύστερα, προσαρμόζουμε τα δεδομένα εκπαίδευσης στο μοντέλο, χρησιμοποιώντας την συνάρτηση `.fit()` η οποία δέχεται σαν παράμετρο τις δύο μεταβλητές Χ και y των δεδομένων εκπαίδευσης.\n",
        "\n",
        "Τέλος, εμφανίζουμε τα αποτελέσμα απόδοσης του μοντέλου στα δεδομένα εκπαίδευσης."
      ],
      "metadata": {
        "id": "xWe22zBX131P"
      }
    },
    {
      "cell_type": "code",
      "source": [
        "from sklearn.neighbors import KNeighborsClassifier\n",
        "knn_model = KNeighborsClassifier() # default of 5 neighbours\n",
        "\n",
        "knn_model.fit(X_train, y_train)\n",
        "\n",
        "print(\"K-Nearest Neighbors | Accuracy on training data: {:.2f}%\".format(knn_model.score(X_train, y_train) * 100))"
      ],
      "metadata": {
        "colab": {
          "base_uri": "https://localhost:8080/"
        },
        "id": "l82psQpjRA0z",
        "outputId": "e18194bc-9499-4328-e6ad-d1af4a8f101f"
      },
      "execution_count": 19,
      "outputs": [
        {
          "output_type": "stream",
          "name": "stdout",
          "text": [
            "K-Nearest Neighbors | Accuracy on training data: 89.32%\n"
          ]
        }
      ]
    },
    {
      "cell_type": "markdown",
      "source": [
        "Αντίστοιχα υπολογίζουμε τα αποτελέσματα απόδοσης του μοντέλου στα δεδομένα επαλήθευσης με την χρήση της συνάρτησης `.predict()`."
      ],
      "metadata": {
        "id": "SluAs8nAMyO3"
      }
    },
    {
      "cell_type": "code",
      "source": [
        "knn_pred = knn_model.predict(X_test)\n",
        "\n",
        "knn_score = knn_model.score(X_test, y_test)\n",
        "print(\"K-Nearest Neighbors | Accuracy on testing data: {:.2f}%\".format(knn_score * 100))"
      ],
      "metadata": {
        "colab": {
          "base_uri": "https://localhost:8080/"
        },
        "id": "ZpPzenDqnlek",
        "outputId": "daa7ee56-5ed3-4e61-8870-02f98c03e616"
      },
      "execution_count": 20,
      "outputs": [
        {
          "output_type": "stream",
          "name": "stdout",
          "text": [
            "K-Nearest Neighbors | Accuracy on testing data: 88.12%\n"
          ]
        }
      ]
    },
    {
      "cell_type": "markdown",
      "source": [
        "Στην συνέχεια υπολογίζουμε και απεικονίζουμε τον πίνακα σύγχησης για κάθε κλάση που πρόβλεψε το μοντέλο αξιοποιώντας την συνάρτηση `confusion_matrix()`."
      ],
      "metadata": {
        "id": "tzlbCUoKNbw9"
      }
    },
    {
      "cell_type": "code",
      "source": [
        "cm = confusion_matrix(y_test, knn_pred)\n",
        "plt.figure(figsize=(6,6))\n",
        "sns.heatmap(cm, annot=True, vmin=0, cmap='Blues', cbar=False)\n",
        "plt.xticks(np.arange(8) + 0.5, knn_model.classes_)\n",
        "plt.yticks(np.arange(8) + 0.5, knn_model.classes_)\n",
        "plt.xlabel(\"Predicted\")\n",
        "plt.ylabel(\"Actual\")\n",
        "plt.title(\"Confusion Matrix\")\n",
        "plt.show()"
      ],
      "metadata": {
        "colab": {
          "base_uri": "https://localhost:8080/",
          "height": 410
        },
        "id": "JpanVyMDDqmG",
        "outputId": "f0e3349e-46e7-46cf-e270-9ce598e3900d"
      },
      "execution_count": 21,
      "outputs": [
        {
          "output_type": "display_data",
          "data": {
            "text/plain": [
              "<Figure size 432x432 with 1 Axes>"
            ],
            "image/png": "[encoded data removed]"
          },
          "metadata": {}
        }
      ]
    },
    {
      "cell_type": "markdown",
      "source": [
        "Τέλος, δύο ακόμα μετρικές που μπορούμε να υπολογίσουμε για την απόδοση του μοντέλου είναι η ακρίβεια και το f1 score. Αυτά γίνοτνται μέσω των συναρτήσεων `precision_score()` και `f1_score()` αντίστοιχα."
      ],
      "metadata": {
        "id": "kFRD-cnGN4B4"
      }
    },
    {
      "cell_type": "code",
      "source": [
        "knn_prec = metrics.precision_score(y_test, knn_pred, average='weighted', zero_division=1)\n",
        "print(\"K-Nearest Neighbors | Precision: {:.2f}%\".format(knn_prec * 100))"
      ],
      "metadata": {
        "colab": {
          "base_uri": "https://localhost:8080/"
        },
        "id": "9r9rtBJ47Hn8",
        "outputId": "cdc9f2b1-3089-401a-c210-db162157eee1"
      },
      "execution_count": 22,
      "outputs": [
        {
          "output_type": "stream",
          "name": "stdout",
          "text": [
            "K-Nearest Neighbors | Precision: 89.00%\n"
          ]
        }
      ]
    },
    {
      "cell_type": "code",
      "source": [
        "knn_f1 = metrics.f1_score(y_test, knn_pred, average='weighted')\n",
        "print(\"K-Nearest Neighbors | F1 Score: {:.2f}%\".format(knn_f1 * 100))"
      ],
      "metadata": {
        "colab": {
          "base_uri": "https://localhost:8080/"
        },
        "id": "ABqMESLDHczH",
        "outputId": "a04e6583-6305-4d60-a09a-267eae83e4a7"
      },
      "execution_count": 23,
      "outputs": [
        {
          "output_type": "stream",
          "name": "stdout",
          "text": [
            "K-Nearest Neighbors | F1 Score: 87.46%\n"
          ]
        }
      ]
    },
    {
      "cell_type": "markdown",
      "source": [
        "## **Decision Tree Classifier**\n",
        "\n",
        "---"
      ],
      "metadata": {
        "id": "dvHa76SHRugm"
      }
    },
    {
      "cell_type": "markdown",
      "source": [
        "Ο επόμενος αλγόριθμος είναι το **Δέντρο Απόφασης**.\n",
        "\n",
        "Αφού εισάγουμε το πακέτο, δημιουργούμε το μοντέλο καλώντας τον constructor `DecisionTreeClassifier()` στην μεταβλητή `dt_model`.\n",
        "\n",
        "Ύστερα, προσαρμόζουμε τα δεδομένα εκπαίδευσης στο μοντέλο, χρησιμοποιώντας την συνάρτηση `.fit()` η οποία δέχεται σαν παράμετρο τις δύο μεταβλητές Χ και y των δεδομένων εκπαίδευσης.\n",
        "\n",
        "Τέλος, εμφανίζουμε τα αποτελέσμα απόδοσης του μοντέλου στα δεδομένα εκπαίδευσης."
      ],
      "metadata": {
        "id": "NEk681xX2FYw"
      }
    },
    {
      "cell_type": "code",
      "source": [
        "from sklearn.tree import DecisionTreeClassifier\n",
        "dt_model = DecisionTreeClassifier(random_state=1, class_weight='balanced')\n",
        "\n",
        "dt_model.fit(X_train, y_train)\n",
        "\n",
        "print(\"Decision Tree | Accuracy on training data: {:.2f}%\".format(dt_model.score(X_train, y_train) * 100))"
      ],
      "metadata": {
        "colab": {
          "base_uri": "https://localhost:8080/"
        },
        "id": "NjYbyDO4Rpi6",
        "outputId": "4140d801-e0b2-4750-b716-25d661f4de5d"
      },
      "execution_count": 24,
      "outputs": [
        {
          "output_type": "stream",
          "name": "stdout",
          "text": [
            "Decision Tree | Accuracy on training data: 100.00%\n"
          ]
        }
      ]
    },
    {
      "cell_type": "markdown",
      "source": [
        "Αντίστοιχα υπολογίζουμε τα αποτελέσματα απόδοσης του μοντέλου στα δεδομένα επαλήθευσης με την χρήση της συνάρτησης `.predict()`."
      ],
      "metadata": {
        "id": "tmwttucNNJIT"
      }
    },
    {
      "cell_type": "code",
      "source": [
        "dt_pred = dt_model.predict(X_test)\n",
        "\n",
        "dt_score = dt_model.score(X_test, y_test)\n",
        "print(\"Decision Tree | Accuracy on testing data: {:.2f}%\".format(dt_score * 100))"
      ],
      "metadata": {
        "colab": {
          "base_uri": "https://localhost:8080/"
        },
        "id": "KWaqAmgJfkAm",
        "outputId": "0ed7d674-7dfb-42a1-a5b3-ce67dd66a7e3"
      },
      "execution_count": 25,
      "outputs": [
        {
          "output_type": "stream",
          "name": "stdout",
          "text": [
            "Decision Tree | Accuracy on testing data: 81.19%\n"
          ]
        }
      ]
    },
    {
      "cell_type": "markdown",
      "source": [
        "Στην συνέχεια υπολογίζουμε και απεικονίζουμε τον πίνακα σύγχησης για κάθε κλάση που πρόβλεψε το μοντέλο αξιοποιώντας την συνάρτηση `confusion_matrix()`."
      ],
      "metadata": {
        "id": "K7MZ6dIANKA5"
      }
    },
    {
      "cell_type": "code",
      "source": [
        "cm = confusion_matrix(y_test, dt_pred)\n",
        "plt.figure(figsize=(6,6))\n",
        "sns.heatmap(cm, annot=True, vmin=0, cmap='Blues', cbar=False)\n",
        "plt.xticks(np.arange(5) + 0.5, lr_model.classes_)\n",
        "plt.yticks(np.arange(5) + 0.5, lr_model.classes_)\n",
        "plt.xlabel(\"Predicted\")\n",
        "plt.ylabel(\"Actual\")\n",
        "plt.title(\"Confusion Matrix\")\n",
        "plt.show()"
      ],
      "metadata": {
        "colab": {
          "base_uri": "https://localhost:8080/",
          "height": 410
        },
        "id": "JwA1XP_tf_9L",
        "outputId": "e0ef8d5d-c3e4-4f59-bace-e60d4de299d1"
      },
      "execution_count": 26,
      "outputs": [
        {
          "output_type": "display_data",
          "data": {
            "text/plain": [
              "<Figure size 432x432 with 1 Axes>"
            ],
            "image/png": "[encoded data removed]"
          },
          "metadata": {}
        }
      ]
    },
    {
      "cell_type": "markdown",
      "source": [
        "Τέλος, δύο ακόμα μετρικές που μπορούμε να υπολογίσουμε για την απόδοση του μοντέλου είναι η ακρίβεια και το f1 score. Αυτά γίνοτνται μέσω των συναρτήσεων `precision_score()` και `f1_score()` αντίστοιχα."
      ],
      "metadata": {
        "id": "nqx5r9R1N45_"
      }
    },
    {
      "cell_type": "code",
      "source": [
        "dt_prec = metrics.precision_score(y_test, dt_pred, average='weighted', zero_division=1)\n",
        "print(\"Decision Tree | Precision: {:.2f}%\".format(dt_prec * 100))"
      ],
      "metadata": {
        "colab": {
          "base_uri": "https://localhost:8080/"
        },
        "id": "iib8Da0f7gLm",
        "outputId": "c4595006-7b97-4eb8-ad7e-00561c67fb6a"
      },
      "execution_count": 27,
      "outputs": [
        {
          "output_type": "stream",
          "name": "stdout",
          "text": [
            "Decision Tree | Precision: 83.46%\n"
          ]
        }
      ]
    },
    {
      "cell_type": "code",
      "source": [
        "\n",
        "\n",
        "dt_f1 = metrics.f1_score(y_test, dt_pred, average='weighted')\n",
        "print(\"Decision Tree | F1 Score: {:.2f}%\".format(dt_f1 * 100))"
      ],
      "metadata": {
        "colab": {
          "base_uri": "https://localhost:8080/"
        },
        "id": "JVLno821HwBm",
        "outputId": "f39b28f5-4873-46e9-a887-07d0d3947af5"
      },
      "execution_count": 28,
      "outputs": [
        {
          "output_type": "stream",
          "name": "stdout",
          "text": [
            "Decision Tree | F1 Score: 80.75%\n"
          ]
        }
      ]
    },
    {
      "cell_type": "markdown",
      "source": [
        "## **Random Forest Classifier**\n",
        "\n",
        "---"
      ],
      "metadata": {
        "id": "D8OLoL1_dvmY"
      }
    },
    {
      "cell_type": "markdown",
      "source": [
        "Ο τελευταίος αλγόριθμος είναι το **Random Forest Classfier**.\n",
        "\n",
        "Αφού εισάγουμε το πακέτο, δημιουργούμε το μοντέλο καλώντας τον constructor `RandomForestClassifier()` στην μεταβλητή `rf_model`.\n",
        "\n",
        "Ύστερα, προσαρμόζουμε τα δεδομένα εκπαίδευσης στο μοντέλο, χρησιμοποιώντας την συνάρτηση `.fit()` η οποία δέχεται σαν παράμετρο τις δύο μεταβλητές Χ και y των δεδομένων εκπαίδευσης.\n",
        "\n",
        "Τέλος, εμφανίζουμε τα αποτελέσμα απόδοσης του μοντέλου στα δεδομένα εκπαίδευσης."
      ],
      "metadata": {
        "id": "h8lko5f92e8z"
      }
    },
    {
      "cell_type": "code",
      "source": [
        "from pandas.core.common import random_state\n",
        "from sklearn.ensemble import RandomForestClassifier\n",
        "\n",
        "rf_model = RandomForestClassifier(n_estimators=50, random_state=1, class_weight='balanced')\n",
        "\n",
        "rf_model.fit(X_train,y_train)\n",
        "\n",
        "print(\"Random Forest | Accuracy on training data: {:.2f}%\".format(rf_model.score(X_train, y_train) * 100))"
      ],
      "metadata": {
        "colab": {
          "base_uri": "https://localhost:8080/"
        },
        "id": "dIJz9eHddz3-",
        "outputId": "915b5083-0ee3-4701-fd2d-b4d0bcea5686"
      },
      "execution_count": 29,
      "outputs": [
        {
          "output_type": "stream",
          "name": "stdout",
          "text": [
            "Random Forest | Accuracy on training data: 99.57%\n"
          ]
        }
      ]
    },
    {
      "cell_type": "markdown",
      "source": [
        "Αντίστοιχα υπολογίζουμε τα αποτελέσματα απόδοσης του μοντέλου στα δεδομένα επαλήθευσης με την χρήση της συνάρτησης `.predict()`."
      ],
      "metadata": {
        "id": "FYtX1GMRM1m6"
      }
    },
    {
      "cell_type": "code",
      "source": [
        "rf_pred = rf_model.predict(X_test)\n",
        "\n",
        "rf_score = rf_model.score(X_test, y_test)\n",
        "print(\"Random Forest | Accuracy on testing data: {:.2f}%\".format(rf_score * 100))"
      ],
      "metadata": {
        "colab": {
          "base_uri": "https://localhost:8080/"
        },
        "id": "Jj2v6xtkfH42",
        "outputId": "4795c3df-c394-4c2c-d120-36a16b6ad174"
      },
      "execution_count": 30,
      "outputs": [
        {
          "output_type": "stream",
          "name": "stdout",
          "text": [
            "Random Forest | Accuracy on testing data: 89.11%\n"
          ]
        }
      ]
    },
    {
      "cell_type": "markdown",
      "source": [
        "Στην συνέχεια υπολογίζουμε και απεικονίζουμε τον πίνακα σύγχησης για κάθε κλάση που πρόβλεψε το μοντέλο αξιοποιώντας την συνάρτηση `confusion_matrix()`."
      ],
      "metadata": {
        "id": "2lcwSNotNZ5T"
      }
    },
    {
      "cell_type": "code",
      "source": [
        "cm = confusion_matrix(y_test, rf_pred)\n",
        "plt.figure(figsize=(6,6))\n",
        "sns.heatmap(cm, annot=True, vmin=0, cmap='Blues', cbar=False)\n",
        "plt.xticks(np.arange(8) + 0.5, rf_model.classes_)\n",
        "plt.yticks(np.arange(8) + 0.5, rf_model.classes_)\n",
        "plt.xlabel(\"Predicted\")\n",
        "plt.ylabel(\"Actual\")\n",
        "plt.title(\"Confusion Matrix\")\n",
        "plt.show()"
      ],
      "metadata": {
        "colab": {
          "base_uri": "https://localhost:8080/",
          "height": 410
        },
        "id": "ukf_yeN3NAUK",
        "outputId": "a424785b-0211-42e4-942f-893128be65e3"
      },
      "execution_count": 31,
      "outputs": [
        {
          "output_type": "display_data",
          "data": {
            "text/plain": [
              "<Figure size 432x432 with 1 Axes>"
            ],
            "image/png": "[encoded data removed]"
          },
          "metadata": {}
        }
      ]
    },
    {
      "cell_type": "markdown",
      "source": [
        "Τέλος, δύο ακόμα μετρικές που μπορούμε να υπολογίσουμε για την απόδοση του μοντέλου είναι η ακρίβεια και το f1 score. Αυτά γίνοτνται μέσω των συναρτήσεων `precision_score()` και `f1_score()` αντίστοιχα."
      ],
      "metadata": {
        "id": "o88HpBciN6AM"
      }
    },
    {
      "cell_type": "code",
      "source": [
        "rf_prec = metrics.precision_score(y_test, rf_pred, average='weighted', zero_division=1)\n",
        "print(\"Random Forest | Precision: {:.2f}%\".format(rf_prec * 100))"
      ],
      "metadata": {
        "colab": {
          "base_uri": "https://localhost:8080/"
        },
        "id": "SR74MGOX7lll",
        "outputId": "7b4323a0-6e38-4f51-9ce4-b3fc76eaacf4"
      },
      "execution_count": 32,
      "outputs": [
        {
          "output_type": "stream",
          "name": "stdout",
          "text": [
            "Random Forest | Precision: 88.91%\n"
          ]
        }
      ]
    },
    {
      "cell_type": "code",
      "source": [
        "rf_f1 = metrics.f1_score(y_test, rf_pred, average='weighted')\n",
        "print(\"Random Forest | F1 Score: {:.2f}%\".format(rf_f1 * 100))"
      ],
      "metadata": {
        "colab": {
          "base_uri": "https://localhost:8080/"
        },
        "id": "rUOzB7s48rkZ",
        "outputId": "17a9bdab-5d07-4592-d25b-950c51719a8d"
      },
      "execution_count": 33,
      "outputs": [
        {
          "output_type": "stream",
          "name": "stdout",
          "text": [
            "Random Forest | F1 Score: 87.98%\n"
          ]
        }
      ]
    },
    {
      "cell_type": "markdown",
      "source": [
        "# **Συμπεράσματα**\n",
        "\n"
      ],
      "metadata": {
        "id": "HFXBmDbW8VSR"
      }
    },
    {
      "cell_type": "markdown",
      "source": [
        "Παρακάτω βλέπουμε ένα γράφημα με τα αποτελέσματα των διάφορων μοντέλων που χρησιμοποιήθηκαν με το **Random Forest Classifier** να αποδίδει καλύτερα."
      ],
      "metadata": {
        "id": "G4gdjgktKzRR"
      }
    },
    {
      "cell_type": "code",
      "source": [
        "data = np.array([[lr_score, lr_prec, lr_f1], [knn_score, knn_prec, knn_f1], \n",
        "                 [dt_score, dt_prec, dt_f1], [rf_score, rf_prec, rf_f1]])  \n",
        "\n",
        "length = len(data)\n",
        "x_labels = ['LR', 'KNN', 'DTC', 'RFC']\n",
        "\n",
        "# Set plot parameters\n",
        "fig, ax = plt.subplots()\n",
        "width = 0.2 # width of bar\n",
        "x = np.arange(length)\n",
        "\n",
        "ax.bar(x, data[:,0], width, color='#000080', label='Accuracy')\n",
        "ax.bar(x + width, data[:,1], width, color='#0F52BA', label='Precision')\n",
        "ax.bar(x + (2 * width), data[:,2], width, color='#6593F5', label='F1 Score')\n",
        "\n",
        "ax.set_ylabel('Metric')\n",
        "ax.set_ylim(0,1.05)\n",
        "ax.set_xticks(x + width + width/2)\n",
        "ax.set_xticklabels(x_labels)\n",
        "ax.set_xlabel('Model')\n",
        "ax.set_title('Classification Models Comparison')\n",
        "ax.legend()\n",
        "\n",
        "fig.tight_layout()\n",
        "fig.set_size_inches(15,10)\n",
        "plt.show()"
      ],
      "metadata": {
        "colab": {
          "base_uri": "https://localhost:8080/",
          "height": 607
        },
        "id": "Yrz4eU_gEAjK",
        "outputId": "58264025-d2ed-4d63-daa7-76afdfe81ba3"
      },
      "execution_count": 34,
      "outputs": [
        {
          "output_type": "display_data",
          "data": {
            "text/plain": [
              "<Figure size 1080x720 with 1 Axes>"
            ],
            "image/png": "[encoded data removed]"
          },
          "metadata": {}
        }
      ]
    }
  ]
}